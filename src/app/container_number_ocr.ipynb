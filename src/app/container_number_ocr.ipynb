{
 "metadata": {
  "language_info": {
   "codemirror_mode": {
    "name": "ipython",
    "version": 3
   },
   "file_extension": ".py",
   "mimetype": "text/x-python",
   "name": "python",
   "nbconvert_exporter": "python",
   "pygments_lexer": "ipython3",
   "version": "3.8.5"
  },
  "orig_nbformat": 2,
  "kernelspec": {
   "name": "pythonjvsc74a57bd071caa2c22f4e8bb7a372824d4ea354f32e50a59e2bbfdcfcd535f56ab45c6d5c",
   "display_name": "Python 3.8.5  ('env': venv)"
  },
  "metadata": {
   "interpreter": {
    "hash": "71caa2c22f4e8bb7a372824d4ea354f32e50a59e2bbfdcfcd535f56ab45c6d5c"
   }
  }
 },
 "nbformat": 4,
 "nbformat_minor": 2,
 "cells": [
  {
   "source": [
    "'''\n",
    "@author     : Ali Mustofa HALOTEC\n",
    "@module     : OCR Container Number\n",
    "@Created on : 29 April 2021\n",
    "'''\n",
    "\n",
    "import cv2\n",
    "import torch\n",
    "import easyocr\n",
    "from PIL import Image, ImageDraw\n",
    "from config_ocr import ConfigOcr"
   ],
   "cell_type": "code",
   "metadata": {},
   "execution_count": 38,
   "outputs": []
  },
  {
   "cell_type": "code",
   "execution_count": 41,
   "metadata": {},
   "outputs": [],
   "source": [
    "class OpticalCharacterRecognition:\n",
    "    '''\n",
    "    Setup configuration EasyOCR\n",
    "    '''\n",
    "    def __init__(self):\n",
    "        self.device = True if torch.cuda.is_available() else False\n",
    "        self.list_langs = ['en', 'id']\n",
    "        self.recog_network = 'english_g2'\n",
    "        self.reader = easyocr.Reader(self.list_langs, gpu=self.device, recog_network=self.recog_network)\n",
    "\n",
    "    def detect_char(self, image):\n",
    "        '''\n",
    "        Detection character in image\n",
    "        '''\n",
    "        return self.reader.detect(image)\n",
    "\n",
    "    def ocr_image(self, image, config):\n",
    "        '''\n",
    "        Read text in image with library easy ocr\n",
    "        with configuration in param config\n",
    "        '''\n",
    "        results = self.reader.readtext(\n",
    "            image,\n",
    "            detail          = config.detail,\n",
    "            decoder         = config.decoder,\n",
    "            beamWidth       = config.beam_width,\n",
    "            batch_size      = config.batch_size,\n",
    "            workers         = config.workers,\n",
    "            allowlist       = config.allow_list,\n",
    "            blocklist       = config.blocklist,\n",
    "            paragraph       = config.paragraph,\n",
    "            min_size        = config.min_size,\n",
    "            rotation_info   = config.rotation_info,\n",
    "            # Contrast\n",
    "            contrast_ths    = config.contrast_ths,\n",
    "            adjust_contrast = config.adjust_contrast,\n",
    "            # Text detection\n",
    "            text_threshold  = config.text_threshold + 0.1 if self.device else config.text_threshold,\n",
    "            low_text        = config.low_text,\n",
    "            link_threshold  = config.link_threshold,\n",
    "            canvas_size     = config.canvas_size,\n",
    "            mag_ratio       = config.mag_ratio\n",
    "        )\n",
    "        return results\n",
    "    \n",
    "    def draw_boxes(self, image, bounds, color='yellow', width=2):\n",
    "        text = []\n",
    "        confidence = []\n",
    "        image = Image.fromarray(cv2.cvtColor(image,cv2.COLOR_BGR2RGB))\n",
    "        draw = ImageDraw.Draw(image)\n",
    "\n",
    "        for bound in bounds:\n",
    "            if bound[2] > 0.0:\n",
    "                confidence.append(bound[2])\n",
    "                text.append(bound[1])\n",
    "                p0, p1, p2, p3 = bound[0]\n",
    "                draw.line([*p0, *p1, *p2, *p3, *p0], fill=color, width=width)\n",
    "        \n",
    "        # Calculate AVG confidence level\n",
    "        avgConf = sum(confidence)/len(confidence)\n",
    "        return image, text, avgConf\n",
    "            "
   ]
  },
  {
   "cell_type": "code",
   "execution_count": 67,
   "metadata": {},
   "outputs": [],
   "source": [
    "def resize(image):\n",
    "    scale_percent = 180\n",
    "    width = int(image.shape[1] * scale_percent / 100)\n",
    "    height = int(image.shape[0] * scale_percent / 100)\n",
    "    dim = (width, height)\n",
    "    return cv2.resize(image, dim, interpolation = cv2.INTER_AREA)"
   ]
  },
  {
   "cell_type": "code",
   "execution_count": 43,
   "metadata": {},
   "outputs": [
    {
     "output_type": "stream",
     "name": "stderr",
     "text": [
      "Using CPU. Note: This module is much faster with a GPU.\n"
     ]
    }
   ],
   "source": [
    "# call class OpticalCharacterRecognition\n",
    "\n",
    "ocr = OpticalCharacterRecognition()"
   ]
  },
  {
   "cell_type": "code",
   "execution_count": 68,
   "metadata": {},
   "outputs": [
    {
     "output_type": "stream",
     "name": "stdout",
     "text": [
      "205\n"
     ]
    }
   ],
   "source": [
    "image_crop = cv2.imread('result.jpg')\n",
    "# set size image\n",
    "image_crop = resize(image_crop) if image_crop.shape[1] <= 175 else image_crop \n",
    "print(image_crop.shape[1])\n",
    "# detec character  \n",
    "detected_char = ocr.detect_char(image_crop)\n",
    "image_ocr = image_crop if detected_char else None"
   ]
  },
  {
   "cell_type": "code",
   "execution_count": 69,
   "metadata": {},
   "outputs": [
    {
     "output_type": "stream",
     "name": "stdout",
     "text": [
      "[([[161, 25], [179, 25], [179, 55], [161, 55]], '5', 0.9027947881100005), ([[89, 73], [141, 73], [141, 117], [89, 117]], '2261', 0.9720310675079903), ([[79.17157287525382, 47.17157287525381], [161.13713251847548, 26.518387709265667], [169.82842712474618, 62.82842712474619], [87.86286748152452, 84.48161229073433]], '228446 ', 0.6924174831656966), ([[12.88000423998728, 68.60800678397965], [72.79785219027252, 54.14132493602591], [80.11999576001271, 91.39199321602035], [21.202147809727485, 106.85867506397409]], 'DRYU', 0.9844669103622437)]\n"
     ]
    }
   ],
   "source": [
    "'''\n",
    "Set methods and value config ocr\n",
    "methods view schema/config_ocr.py\n",
    "'''\n",
    "config = ConfigOcr(\n",
    "    beam_width = 20,\n",
    "    batch_size = 10,\n",
    "    text_threshold = 0.4,\n",
    "    link_threshold = 0.7,\n",
    "    low_text = 0.4,\n",
    "    slope_ths = 0.9,\n",
    ")\n",
    "results_ocr = ocr.ocr_image(image=image_ocr, config=config)\n",
    "print(results_ocr)"
   ]
  },
  {
   "cell_type": "code",
   "execution_count": 70,
   "metadata": {},
   "outputs": [
    {
     "output_type": "stream",
     "name": "stdout",
     "text": [
      "['5', '2261', '228446 ', 'DRYU'] 0.8879275622864827\n"
     ]
    }
   ],
   "source": [
    "image, text, confidence = ocr.draw_boxes(image_ocr, results_ocr)\n",
    "print(text, confidence)"
   ]
  },
  {
   "cell_type": "code",
   "execution_count": 71,
   "metadata": {},
   "outputs": [
    {
     "output_type": "execute_result",
     "data": {
      "text/plain": [
       "<PIL.Image.Image image mode=RGB size=205x120 at 0x7FD78816A5E0>"
      ],
      "image/png": "[encoded data removed]"
     },
     "metadata": {},
     "execution_count": 71
    }
   ],
   "source": [
    "image"
   ]
  },
  {
   "cell_type": "code",
   "execution_count": 72,
   "metadata": {},
   "outputs": [
    {
     "output_type": "execute_result",
     "data": {
      "text/plain": [
       "[['DRYU', 0.9844669103622437],\n",
       " ['228446', 0.6924174831656966],\n",
       " ['2261', 0.9720310675079903],\n",
       " ['5', 0.9027947881100005]]"
      ]
     },
     "metadata": {},
     "execution_count": 72
    }
   ],
   "source": [
    "def filter_text_conf(text_conf):\n",
    "    '''\n",
    "    Remove space in list text_conf and add create new list\n",
    "    '''\n",
    "    new_text_conf = list()\n",
    "    for text, conf in text_conf:\n",
    "        remove_space = text.split(' ')\n",
    "        for word in remove_space:\n",
    "            if word.isalnum():\n",
    "                new_text_conf.append([word, conf])\n",
    "    return new_text_conf\n",
    "\n",
    "results_ocr.sort(reverse=False)\n",
    "text_conf_list  = [[i[1], i[2]] for i in results_ocr]\n",
    "filter_text_conf(text_conf_list)"
   ]
  },
  {
   "cell_type": "code",
   "execution_count": null,
   "metadata": {},
   "outputs": [],
   "source": []
  }
 ]
}